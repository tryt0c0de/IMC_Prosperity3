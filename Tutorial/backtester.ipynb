{
 "cells": [
  {
   "cell_type": "code",
   "execution_count": 1,
   "metadata": {},
   "outputs": [],
   "source": [
    "import pandas as pd\n",
    "from trader import Trader\n",
    "from datamodel import *\n",
    "import matplotlib.pyplot as plt"
   ]
  },
  {
   "cell_type": "code",
   "execution_count": 2,
   "metadata": {},
   "outputs": [],
   "source": [
    "\n",
    "data = pd.read_csv(\"8cf4dead-dd7a-4882-8510-bbce815a8c28.csv\",sep = \";\")"
   ]
  },
  {
   "cell_type": "code",
   "execution_count": 69,
   "metadata": {},
   "outputs": [],
   "source": [
    "def match_bid(order: Order, order_depth: OrderDepth,timestamp: Time):\n",
    "    if order.quantity > 0:\n",
    "        for ask, quantity in order_depth.sell_orders.items():    # Since we want to buy we match against the sell orders\n",
    "            if ask >= order.price:\n",
    "                trade=Trade(order.symbol, order.price, -quantity,\"\",\"\",timestamp)\n",
    "                return trade\n",
    "\n",
    "def match_ask(order: Order, order_depth: OrderDepth,timestamp: Time):\n",
    "\n",
    "    if order.quantity < 0:\n",
    "        for bid, quantity in order_depth.buy_orders.items():    # Since we want to sell we match against the buy orders\n",
    "            if bid <= order.price:\n",
    "                trade=Trade(order.symbol, order.price, quantity,\"\",\"\",timestamp)\n",
    "                return trade"
   ]
  },
  {
   "cell_type": "code",
   "execution_count": 76,
   "metadata": {},
   "outputs": [],
   "source": [
    "def match_bid(order: Order, order_depth: OrderDepth,timestamp: Time):\n",
    "    if order.quantity > 0:\n",
    "        for bid, quantity in order_depth.buy_orders.items():\n",
    "            if bid <= order.price:\n",
    "                trade=Trade(order.symbol, order.price, quantity,\"\",\"\",timestamp)\n",
    "                return trade\n",
    "def match_ask(order: Order, order_depth: OrderDepth,timestamp: Time):\n",
    "    if order.quantity < 0:\n",
    "        for ask, quantity in order_depth.sell_orders.items():\n",
    "            if ask >= order.price:\n",
    "                trade=Trade(order.symbol, order.price, -quantity,\"\",\"\",timestamp)\n",
    "                return trade\n",
    "#own_trades = [symbol, List[Trade(None,None,None)]]\n",
    "#market_trades = [symbol, List[Trade(None, None, None)]] #I think we will not be interested in this but we need to initialize it\n",
    "\n",
    "pos: Position = 0\n",
    "own_trades = []\n",
    "market_trades = []\n",
    "max_holdings = {\"RAINFOREST_RESIN\": 50, \"KELP\": 50}\n",
    "pnl = {product: 0 for product in max_holdings.keys()} #Will need to be updated because Im just taking the max_holdings keys\n",
    "for index,row in data.iterrows():\n",
    "    timestamp: Time = row[\"timestamp\"]\n",
    "    product: Product = row[\"product\"]\n",
    "    symbol: Symbol = Symbol(product)\n",
    "    traderData = \"Dragonera\"\n",
    "    bids: Dict = {row[f\"bid_price_{i}\"]: row[f\"bid_volume_{i}\"] for i in range(1, 4) if pd.notna(row[f'bid_price_{i}'])}\n",
    "    asks: Dict = {row[f\"ask_price_{i}\"]: row[f\"ask_volume_{i}\"] for i in range(1, 4) if pd.notna(row[f'ask_price_{i}'])}\n",
    "    order_depth = OrderDepth()\n",
    "    order_depth.buy_orders = bids\n",
    "    order_depth.sell_orders = asks\n",
    "    order_depths = {symbol: order_depth}\n",
    "    position: Dict= {product:  pos}\n",
    "    listings: Dict[Symbol, Listing] = {symbol: Listing(symbol=symbol,product=product,denomination=product)}  # Assuming fair price is in the data\n",
    "    best_bid = max(bids.keys(), default=None)\n",
    "    best_ask = min(asks.keys(), default=None)\n",
    "    mid_price = (best_bid + best_ask) / 2 if best_bid is not None and best_ask is not None else None\n",
    "    transportfee = 0\n",
    "    exporttarif = 0\n",
    "    importtarif = 0\n",
    "    sugarprice = 0\n",
    "    sunlightindex = 0\n",
    "    plain_value_obss: Dict[Product,ObservationValue] = {product:mid_price}\n",
    "    conv_obs = ConversionObservation(bidPrice=best_bid,askPrice=best_ask,\n",
    "                                        transportFees=transportfee,\n",
    "                                        exportTariff=exporttarif,\n",
    "                                        importTariff=importtarif,\n",
    "                                        sugarPrice=sugarprice,\n",
    "                                        sunlightIndex=sunlightindex)\n",
    "    conversion_obss: Dict[Product, ConversionObservation] = {product: conv_obs}\n",
    "    observation: Observation = Observation(conversionObservations=conversion_obss,\n",
    "                                           plainValueObservations=plain_value_obss)\n",
    "    state = TradingState(traderData= traderData,\n",
    "                         timestamp=timestamp,\n",
    "                         order_depths=order_depths,\n",
    "                         own_trades=own_trades,\n",
    "                         market_trades=market_trades,\n",
    "                         position=position,\n",
    "                         observations= observation,\n",
    "                         listings=listings)\n",
    "    trader = Trader()\n",
    "    orders= trader.run(state)[0]\n",
    "    # print(orders)\n",
    "    #Once we get the orders we need to see if the order is a trade or not\n",
    "    for symbol, order in orders.items():\n",
    "        if order and len(order) > 0:\n",
    "            order = order[0]\n",
    "            #The available to trade[0] is the positive one and [1] is the negative one (short position)\n",
    "            available_to_trade = [max_holdings[product] -position[product],-max_holdings[product]-position[product]]\n",
    "            #Trade Matching\n",
    "            if order.quantity > 0:\n",
    "                if order.quantity > available_to_trade[0]:\n",
    "                    break #The orders are cancelled because the quantity is too high\n",
    "                else:\n",
    "                    trade = match_bid(order, order_depths[order.symbol],timestamp)\n",
    "                    #update the position\n",
    "                    \n",
    "                    position[product] += trade.quantity\n",
    "                    #update the own_trades\n",
    "                    own_trades.append(trade)\n",
    "                    #update the PnL\n",
    "                    pnl[trade.symbol] -= trade.quantity * trade.price\n",
    "            else:\n",
    "                if order.quantity < available_to_trade[1]:\n",
    "                    break #The orders are cancelled because the quantity is too high\n",
    "                else:\n",
    "                    trade = match_ask(order, order_depths[order.symbol],timestamp)\n",
    "                    #update the position\n",
    "                    position[product] += trade.quantity\n",
    "                    own_trades.append(trade)\n",
    "                    #update the PnL\n",
    "                    pnl[trade.symbol] -= trade.quantity * trade.price\n",
    "            \n",
    "\n",
    "\n",
    "\n",
    "\n"
   ]
  },
  {
   "cell_type": "code",
   "execution_count": 77,
   "metadata": {},
   "outputs": [
    {
     "data": {
      "text/plain": [
       "{'RAINFOREST_RESIN': -50, 'KELP': -50}"
      ]
     },
     "execution_count": 77,
     "metadata": {},
     "output_type": "execute_result"
    }
   ],
   "source": [
    "positions"
   ]
  },
  {
   "cell_type": "code",
   "execution_count": 78,
   "metadata": {},
   "outputs": [
    {
     "data": {
      "text/plain": [
       "{'RAINFOREST_RESIN': 170908401, 'KELP': 51533396}"
      ]
     },
     "execution_count": 78,
     "metadata": {},
     "output_type": "execute_result"
    }
   ],
   "source": [
    "pnl"
   ]
  },
  {
   "cell_type": "code",
   "execution_count": null,
   "metadata": {},
   "outputs": [],
   "source": []
  }
 ],
 "metadata": {
  "kernelspec": {
   "display_name": "base",
   "language": "python",
   "name": "python3"
  },
  "language_info": {
   "codemirror_mode": {
    "name": "ipython",
    "version": 3
   },
   "file_extension": ".py",
   "mimetype": "text/x-python",
   "name": "python",
   "nbconvert_exporter": "python",
   "pygments_lexer": "ipython3",
   "version": "3.11.11"
  }
 },
 "nbformat": 4,
 "nbformat_minor": 2
}
