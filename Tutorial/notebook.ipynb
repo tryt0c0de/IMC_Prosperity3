{
 "cells": [
  {
   "cell_type": "code",
   "execution_count": 12,
   "metadata": {},
   "outputs": [],
   "source": [
    "import json\n",
    "import re\n",
    "import pandas as pd\n",
    "\n",
    "def logs_to_dataframe(log_data):\n",
    "    # Parse log entries\n",
    "    entries = []\n",
    "    for line in log_data.strip().split('\\n'):\n",
    "        if line.startswith('{'):\n",
    "            try:\n",
    "                entry = json.loads(line)\n",
    "                entries.append(entry)\n",
    "            except:\n",
    "                pass\n",
    "    \n",
    "    # Extract data for orders DataFrame\n",
    "    orders_data = []\n",
    "    errors_data = []\n",
    "    \n",
    "    for entry in entries:\n",
    "        timestamp = entry.get('timestamp')\n",
    "        lambda_log = entry.get('lambdaLog', '')\n",
    "        sandbox_log = entry.get('sandboxLog', '')\n",
    "        \n",
    "        # Extract orders\n",
    "        for match in re.findall(r'SELL (\\d+)x (\\d+)', lambda_log):\n",
    "            quantity, price = match\n",
    "            orders_data.append({\n",
    "                'timestamp': timestamp,\n",
    "                'quantity': int(quantity),\n",
    "                'price': int(price),\n",
    "                'type': 'SELL'\n",
    "            })\n",
    "        \n",
    "        # Extract buy/sell order depths\n",
    "        buy_depth_match = re.search(r'Buy Order depth : (\\d+)', lambda_log)\n",
    "        sell_depth_match = re.search(r'Sell order depth : (\\d+)', lambda_log)\n",
    "        \n",
    "        if buy_depth_match and sell_depth_match:\n",
    "            buy_depth = int(buy_depth_match.group(1))\n",
    "            sell_depth = int(sell_depth_match.group(1))\n",
    "            \n",
    "            # Add to orders_data if not already captured\n",
    "            if not any(d['timestamp'] == timestamp for d in orders_data):\n",
    "                orders_data.append({\n",
    "                    'timestamp': timestamp,\n",
    "                    'buy_depth': buy_depth,\n",
    "                    'sell_depth': sell_depth\n",
    "                })\n",
    "            else:\n",
    "                # Update existing entries\n",
    "                for order in orders_data:\n",
    "                    if order['timestamp'] == timestamp:\n",
    "                        order['buy_depth'] = buy_depth\n",
    "                        order['sell_depth'] = sell_depth\n",
    "        \n",
    "        # Extract errors\n",
    "        for product in re.findall(r'Orders for product (\\w+) exceeded', sandbox_log):\n",
    "            errors_data.append({\n",
    "                'timestamp': timestamp,\n",
    "                'product': product,\n",
    "                'error': 'exceeded limit'\n",
    "            })\n",
    "    \n",
    "    # Create DataFrames\n",
    "    orders_df = pd.DataFrame(orders_data)\n",
    "    errors_df = pd.DataFrame(errors_data) if errors_data else pd.DataFrame(columns=['timestamp', 'product', 'error'])\n",
    "    \n",
    "    return orders_df, errors_df"
   ]
  },
  {
   "cell_type": "code",
   "execution_count": 13,
   "metadata": {},
   "outputs": [],
   "source": [
    "with open('94c5bd59-6268-43e3-b99a-3b5abc114c78.log', 'r') as f:\n",
    "        log_data = f.read()\n",
    "    \n",
    "orders_df, errors_df = logs_to_dataframe(log_data)\n"
   ]
  },
  {
   "cell_type": "code",
   "execution_count": 18,
   "metadata": {},
   "outputs": [
    {
     "name": "stdout",
     "output_type": "stream",
     "text": [
      "Empty DataFrame\n",
      "Columns: []\n",
      "Index: []\n"
     ]
    }
   ],
   "source": [
    "print(orders_df)\n"
   ]
  },
  {
   "cell_type": "code",
   "execution_count": null,
   "metadata": {},
   "outputs": [],
   "source": []
  }
 ],
 "metadata": {
  "kernelspec": {
   "display_name": "base",
   "language": "python",
   "name": "python3"
  },
  "language_info": {
   "codemirror_mode": {
    "name": "ipython",
    "version": 3
   },
   "file_extension": ".py",
   "mimetype": "text/x-python",
   "name": "python",
   "nbconvert_exporter": "python",
   "pygments_lexer": "ipython3",
   "version": "3.11.11"
  }
 },
 "nbformat": 4,
 "nbformat_minor": 2
}
